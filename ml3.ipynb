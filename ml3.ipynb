{
 "cells": [
  {
   "cell_type": "markdown",
   "id": "fec4e79b-980c-4ee0-b902-3a2176663307",
   "metadata": {},
   "source": [
    "# Dzień 3\n",
    "\n",
    "---\n",
    "## Shapley values\n",
    "\n",
    "W 2017  Lundberg and Lee opublikowali artykuł \"A Unified Approach to Interpreting Model Predictions\".\n",
    "https://proceedings.neurips.cc/paper/2017/file/8a20a8621978632d76c43dfd28b67767-Paper.pdf\n",
    "    \n",
    "Połaczyli \"Shapley values\" (1951, nagroda Nobla z ekonomii 2012) z innym mechanizmami wyjaśniania modeli tworząc SHAP values (SHapley Additive exPlanations) i odpowiadającą im bibliotekę\n",
    "`shap`.\n",
    "\n",
    "https://en.wikipedia.org/wiki/Shapley_value\n"
   ]
  },
  {
   "cell_type": "code",
   "execution_count": null,
   "id": "48d04c37-22c6-45a2-86d8-8f062e463f3e",
   "metadata": {},
   "outputs": [],
   "source": [
    "import warnings\n",
    "warnings.filterwarnings(\"ignore\")"
   ]
  },
  {
   "cell_type": "code",
   "execution_count": null,
   "id": "bf323ccc-9008-480b-a24e-bacc59dc2c3d",
   "metadata": {},
   "outputs": [],
   "source": [
    "import shap"
   ]
  },
  {
   "cell_type": "code",
   "execution_count": null,
   "id": "5ea80952-bda6-457b-8e0a-3413bf1b9b8a",
   "metadata": {},
   "outputs": [],
   "source": [
    "import pandas as pd\n",
    "\n",
    "rain = pd.read_csv(\"data/weatherAUS.csv\")\n",
    "rain"
   ]
  },
  {
   "cell_type": "code",
   "execution_count": null,
   "id": "afd8a8b6-73de-4542-9d66-8577e33d9ae3",
   "metadata": {},
   "outputs": [],
   "source": [
    "cols_to_drop = [\"Date\", \"Location\", \"RainTomorrow\", \"Rainfall\"]\n",
    "\n",
    "rain.drop(cols_to_drop, axis=1, inplace=True)"
   ]
  },
  {
   "cell_type": "markdown",
   "id": "b49d7113-891b-4fff-b728-82d37a6205ec",
   "metadata": {},
   "source": [
    "## Usuwamy kolumny z dużą ilością `NaN`"
   ]
  },
  {
   "cell_type": "code",
   "execution_count": null,
   "id": "a5014117-88be-4de4-8aff-10811481b700",
   "metadata": {},
   "outputs": [],
   "source": [
    "missing_props = rain.isna().mean(axis=0)\n",
    "\n",
    "over_threshold = missing_props[missing_props >= 0.4]"
   ]
  },
  {
   "cell_type": "code",
   "execution_count": null,
   "id": "9ec5dafd-afb5-4db2-87d8-3c76c5b8bda9",
   "metadata": {},
   "outputs": [],
   "source": [
    "rain.drop(over_threshold.index, \n",
    "          axis=1, \n",
    "          inplace=True)"
   ]
  },
  {
   "cell_type": "code",
   "execution_count": null,
   "id": "e119bd12-8024-4f60-8220-34d30571aa25",
   "metadata": {},
   "outputs": [],
   "source": [
    "rain['RainToday'] = rain['RainToday'].map({'No':0,'Yes':1})"
   ]
  },
  {
   "cell_type": "code",
   "execution_count": null,
   "id": "6f0cab19-f3bc-4328-a1ff-b0c0954424e1",
   "metadata": {},
   "outputs": [],
   "source": [
    "X = rain.drop(\"RainToday\", axis=1)\n",
    "y = rain.RainToday"
   ]
  },
  {
   "cell_type": "code",
   "execution_count": null,
   "id": "e7f3aa79-185a-41cb-9d17-50ba4efc5dc6",
   "metadata": {},
   "outputs": [],
   "source": [
    "X"
   ]
  },
  {
   "cell_type": "markdown",
   "id": "c0b2c125-7a4e-4bbb-bd52-e144a25e5074",
   "metadata": {},
   "source": [
    "## Uzupełniamy braki w kategorycznych kolumnach ... ręcznie"
   ]
  },
  {
   "cell_type": "code",
   "execution_count": null,
   "id": "0a304867-73a3-4dcb-9100-dc33f584aa85",
   "metadata": {},
   "outputs": [],
   "source": [
    "from sklearn.impute import SimpleImputer\n",
    "from sklearn.pipeline import Pipeline\n",
    "from sklearn.preprocessing import OneHotEncoder\n",
    "\n",
    "orig_columns = X.columns\n",
    "\n",
    "X = (X\n",
    "      .apply(\n",
    "            lambda x: x.fillna(x.value_counts().index[0])\n",
    "      )\n",
    "      .pipe(pd.get_dummies, X.select_dtypes(exclude=\"number\").columns)\n",
    "    )\n",
    "X"
   ]
  },
  {
   "cell_type": "markdown",
   "id": "e8f53d85-08ec-4bbc-9c2a-f334ad7becf5",
   "metadata": {},
   "source": [
    "## Pipeline ze skalowaniem"
   ]
  },
  {
   "cell_type": "code",
   "execution_count": null,
   "id": "fc68ccc3-08ad-4574-900e-4bccfd8ad791",
   "metadata": {},
   "outputs": [],
   "source": [
    "from sklearn.preprocessing import StandardScaler\n",
    "import xgboost as xgb\n",
    "from sklearn.pipeline import Pipeline\n",
    "\n",
    "pipeline = Pipeline(\n",
    "    steps=[(\"scale\", StandardScaler()), (\"classifier\", xgb.XGBClassifier())]\n",
    ")"
   ]
  },
  {
   "cell_type": "code",
   "execution_count": null,
   "id": "59a05ae7-d8d1-496d-a2f4-ead77f2cac52",
   "metadata": {},
   "outputs": [],
   "source": [
    "from sklearn.model_selection import train_test_split\n",
    "\n",
    "\n",
    "y_processed = SimpleImputer(strategy=\"most_frequent\").fit_transform(\n",
    "    y.values.reshape(-1, 1)\n",
    ")\n",
    "\n",
    "X_train, X_test, y_train, y_test = train_test_split(\n",
    "    X, y_processed, stratify=y_processed, random_state=1121218\n",
    ")\n",
    "\n"
   ]
  },
  {
   "cell_type": "code",
   "execution_count": null,
   "id": "cfc03a92-2331-43f9-b42f-247a904f3ca0",
   "metadata": {},
   "outputs": [],
   "source": [
    "X_train"
   ]
  },
  {
   "cell_type": "code",
   "execution_count": null,
   "id": "5d8e1d98-dd13-47b2-b535-b233018b4d9b",
   "metadata": {},
   "outputs": [],
   "source": [
    "pipeline.fit(X_train, y_train)"
   ]
  },
  {
   "cell_type": "code",
   "execution_count": null,
   "id": "c07c3558-e4ff-4d9f-aa7d-392d28586450",
   "metadata": {},
   "outputs": [],
   "source": [
    "pipeline[\"classifier\"]"
   ]
  },
  {
   "cell_type": "code",
   "execution_count": null,
   "id": "db1cfc86-6a3e-4d96-a2a3-674e4b276dd7",
   "metadata": {},
   "outputs": [],
   "source": [
    "from sklearn.metrics import accuracy_score\n",
    "\n",
    "\n",
    "\n",
    "preds = pipeline.predict(X_test)\n",
    "\n",
    "accuracy_score(y_test, preds)\n"
   ]
  },
  {
   "cell_type": "code",
   "execution_count": null,
   "id": "cf197f69-7f6e-40b1-819e-83f45294c346",
   "metadata": {},
   "outputs": [],
   "source": [
    "import shap\n",
    "\n",
    "shap.initjs()\n",
    "\n",
    "explainer = shap.TreeExplainer(pipeline[\"classifier\"])\n",
    "shap_values = explainer.shap_values(X_train)\n",
    "\n"
   ]
  },
  {
   "cell_type": "code",
   "execution_count": null,
   "id": "0fddeb86-3b87-4040-9b94-5ae18fc2f5a1",
   "metadata": {},
   "outputs": [],
   "source": [
    "df = pd.DataFrame(X_train)"
   ]
  },
  {
   "cell_type": "code",
   "execution_count": null,
   "id": "a441fc83-4997-4554-82b6-536f991c234c",
   "metadata": {},
   "outputs": [],
   "source": [
    "shap.force_plot(explainer.expected_value, shap_values[4776], features=df.loc[4776], feature_names=X.columns)"
   ]
  },
  {
   "cell_type": "code",
   "execution_count": null,
   "id": "7ddbccee-3e04-48a4-8a5e-f0cbb13ad509",
   "metadata": {},
   "outputs": [],
   "source": [
    "shap.summary_plot(shap_values, features=X_train, feature_names=X_train.columns, plot_type=\"violin\", axis_color=\"#FFFFFF\")"
   ]
  },
  {
   "cell_type": "code",
   "execution_count": null,
   "id": "5a2004b3-a3f4-4045-8f5f-31e7473e4a0c",
   "metadata": {},
   "outputs": [],
   "source": [
    "shap.summary_plot(shap_values, features=X_train, feature_names=X_train.columns, plot_type=\"bar\")"
   ]
  },
  {
   "cell_type": "code",
   "execution_count": null,
   "id": "3035c4f6-e241-4acc-a2bb-b925de9196c6",
   "metadata": {},
   "outputs": [],
   "source": [
    "shap.summary_plot(shap_values, features=X_train, feature_names=X_train.columns, plot_type=\"dot\")"
   ]
  },
  {
   "cell_type": "code",
   "execution_count": null,
   "id": "8ff4b0e5-7b6b-4352-b943-7d83033e2426",
   "metadata": {},
   "outputs": [],
   "source": [
    "shap.decision_plot(explainer.expected_value, features=X_train, shap_values= shap_values[4776], feature_names=list(X.columns))"
   ]
  },
  {
   "cell_type": "code",
   "execution_count": null,
   "id": "7da04af7-4375-4341-af56-275a831223ef",
   "metadata": {},
   "outputs": [],
   "source": []
  },
  {
   "cell_type": "code",
   "execution_count": null,
   "id": "6f8200da-d7c8-4cc1-bcd6-3297b8185955",
   "metadata": {},
   "outputs": [],
   "source": []
  },
  {
   "cell_type": "code",
   "execution_count": null,
   "id": "0ee989b6-9472-4094-9b38-3879152b091a",
   "metadata": {},
   "outputs": [],
   "source": [
    "df_shap = pd.DataFrame(shap_values)\n",
    "df_shap"
   ]
  },
  {
   "cell_type": "code",
   "execution_count": null,
   "id": "1d6a3d17-7883-4703-a5ae-aa5d1638be9b",
   "metadata": {},
   "outputs": [],
   "source": [
    "X_train.columns"
   ]
  },
  {
   "cell_type": "code",
   "execution_count": null,
   "id": "f462d24b-3760-4c68-b75c-ae911ae327d0",
   "metadata": {},
   "outputs": [],
   "source": [
    "prefixes = [\t'WindGustDir'\t,'WindDir9am', 'WindDir3pm',]\n"
   ]
  },
  {
   "cell_type": "code",
   "execution_count": null,
   "id": "a4ae95fd-e78f-474d-a9d4-677a784b2875",
   "metadata": {},
   "outputs": [],
   "source": [
    "df_shap.columns = X_train.columns\n",
    "df_shap"
   ]
  },
  {
   "cell_type": "code",
   "execution_count": null,
   "id": "88983e34-e80c-4b13-8d50-6da145ea5354",
   "metadata": {},
   "outputs": [],
   "source": [
    "to_merge = [ (key,[ n for n in X_train.columns if n.find(key)>-1]) for key in prefixes]\n",
    "to_merge"
   ]
  },
  {
   "cell_type": "code",
   "execution_count": null,
   "id": "4444d0b0-6ca8-4961-afde-7385415a2700",
   "metadata": {},
   "outputs": [],
   "source": [
    "df_shap.columns"
   ]
  },
  {
   "cell_type": "code",
   "execution_count": null,
   "id": "54f1c7f5-2c75-4cec-b3a1-158231112e17",
   "metadata": {},
   "outputs": [],
   "source": [
    "for key, cols in to_merge:\n",
    "    df_shap[key] = df_shap[cols].apply(sum, axis=1)\n",
    "    df_shap.drop(cols, axis=1, inplace=True)\n",
    "    \n",
    "df_shap"
   ]
  },
  {
   "cell_type": "code",
   "execution_count": null,
   "id": "4b3ade51-7b32-4640-b597-49c81222bb1f",
   "metadata": {},
   "outputs": [],
   "source": [
    "def undummify(df, prefix_sep=\"_\"):\n",
    "    cols2collapse = {\n",
    "        item.split(prefix_sep)[0]: (prefix_sep in item) for item in df.columns\n",
    "    }\n",
    "    series_list = []\n",
    "    for col, needs_to_collapse in cols2collapse.items():\n",
    "        if needs_to_collapse:\n",
    "            undummified = (\n",
    "                df.filter(like=col)\n",
    "                .idxmax(axis=1)\n",
    "                .apply(lambda x: x.split(prefix_sep, maxsplit=1)[1])\n",
    "                .rename(col)\n",
    "            )\n",
    "            series_list.append(undummified)\n",
    "        else:\n",
    "            series_list.append(df[col])\n",
    "    undummified_df = pd.concat(series_list, axis=1)\n",
    "    return undummified_df"
   ]
  },
  {
   "cell_type": "code",
   "execution_count": null,
   "id": "b5fb62c8-144e-45e2-9be7-618ebfd2e4eb",
   "metadata": {},
   "outputs": [],
   "source": [
    "X_train_undummified = undummify(X_train)\n",
    "X_train_undummified"
   ]
  },
  {
   "cell_type": "code",
   "execution_count": null,
   "id": "76a33aa2-1b8a-4a76-ba73-a840e7002b8a",
   "metadata": {},
   "outputs": [],
   "source": [
    "shap.summary_plot(df_shap, features=X_train_undummified, feature_names=X_train_undummified.columns, plot_type=\"bar\")"
   ]
  },
  {
   "cell_type": "markdown",
   "id": "27ea4a98-d9b9-4405-a3d4-0f911c93ef8c",
   "metadata": {},
   "source": [
    "---\n",
    "# <div style=\"color: magenta\">Ćwiczenie - stworzyć rozwiązanie klasyfikacyjne dla dataset Covertype. </div>\n",
    "    \n",
    "- ## Wyeliminować zbędne kolumny, \n",
    "- ## przeprowadzić Feature Engineering, \n",
    "- ## zbudować pipeline, \n",
    "- ## wytrenować model, \n",
    "- ## skorzystać z Grid Search do optymalizacji Hiperparametrów, \n",
    "- ## wyjaśnić model korzystając z Shapley Values. "
   ]
  },
  {
   "cell_type": "code",
   "execution_count": null,
   "id": "de33bb20-3caa-4ed7-a2ef-5b84f6d35ef7",
   "metadata": {},
   "outputs": [],
   "source": [
    "from sklearn import datasets"
   ]
  },
  {
   "cell_type": "markdown",
   "id": "8f05d8d1-a425-4eb2-86f5-80924c0a2722",
   "metadata": {},
   "source": [
    "https://archive.ics.uci.edu/ml/datasets/Covertype"
   ]
  },
  {
   "cell_type": "code",
   "execution_count": null,
   "id": "0a030061-14e7-4195-91dc-ecb903dbd504",
   "metadata": {},
   "outputs": [],
   "source": [
    "cover = datasets.fetch_covtype(as_frame=True)"
   ]
  },
  {
   "cell_type": "code",
   "execution_count": null,
   "id": "2c482482-0762-4664-8439-c82e07e1b817",
   "metadata": {},
   "outputs": [],
   "source": [
    "print(cover[\"DESCR\"])"
   ]
  },
  {
   "cell_type": "code",
   "execution_count": null,
   "id": "990e52c4-a340-4eaf-b91b-72d0fa9ef22f",
   "metadata": {},
   "outputs": [],
   "source": [
    "cover.data"
   ]
  },
  {
   "cell_type": "code",
   "execution_count": null,
   "id": "c9fc70dc-1c3e-41cf-bb32-8cca0f1a1b9d",
   "metadata": {},
   "outputs": [],
   "source": [
    "cover.target"
   ]
  },
  {
   "cell_type": "code",
   "execution_count": null,
   "id": "2dc62585-5e56-47ba-aef6-afba063e167c",
   "metadata": {},
   "outputs": [],
   "source": []
  }
 ],
 "metadata": {
  "kernelspec": {
   "display_name": "Python 3",
   "language": "python",
   "name": "python3"
  },
  "language_info": {
   "codemirror_mode": {
    "name": "ipython",
    "version": 3
   },
   "file_extension": ".py",
   "mimetype": "text/x-python",
   "name": "python",
   "nbconvert_exporter": "python",
   "pygments_lexer": "ipython3",
   "version": "3.9.1"
  }
 },
 "nbformat": 4,
 "nbformat_minor": 5
}
