{
 "cells": [
  {
   "cell_type": "markdown",
   "id": "53058d2b-19b5-4da2-ac92-61054022c6a4",
   "metadata": {},
   "source": [
    "# Dzień 2\n",
    "\n",
    "### - Feature Selection\n",
    "### - Pipelines\n",
    "### - GridSearch / Hyper Parameter Selection\n",
    "### - Cross Validation\n",
    "### - Random Forest\n",
    "### - XGBoost\n",
    "---"
   ]
  },
  {
   "cell_type": "markdown",
   "id": "565726b6-91cb-4f83-bc5d-e3876ef3c085",
   "metadata": {},
   "source": [
    "# Feature Selection"
   ]
  },
  {
   "cell_type": "code",
   "execution_count": null,
   "id": "e63ff060-f9ef-4c9f-b4e6-3d367c3ad26f",
   "metadata": {},
   "outputs": [],
   "source": [
    "import warnings\n",
    "warnings.filterwarnings(\"ignore\")\n",
    "import matplotlib.pyplot as plt\n",
    "import numpy as np\n",
    "plt.style.use(\"dark_background\")\n"
   ]
  },
  {
   "cell_type": "code",
   "execution_count": null,
   "id": "99a540ec-1651-45d3-9d29-9b7a43ac78a9",
   "metadata": {},
   "outputs": [],
   "source": [
    "import pandas as pd\n",
    "import numpy as np\n",
    "import seaborn as sns\n",
    "import matplotlib.pyplot as plt\n",
    "from sklearn.datasets import load_wine\n",
    "\n",
    "wine_data = load_wine()\n",
    "wine_df = pd.DataFrame(\n",
    "    data=wine_data.data, \n",
    "    columns=wine_data.feature_names)\n",
    "wine_df['target'] = wine_data.target"
   ]
  },
  {
   "cell_type": "code",
   "execution_count": null,
   "id": "ccb10ccc-f117-4318-b181-f1673a836867",
   "metadata": {},
   "outputs": [],
   "source": [
    "wine_df"
   ]
  },
  {
   "cell_type": "code",
   "execution_count": null,
   "id": "6c5495e8-c9a5-4471-91ca-1e6731addc3a",
   "metadata": {},
   "outputs": [],
   "source": [
    "from sklearn.model_selection import train_test_split\n",
    "\n",
    "X = wine_df.drop(['target'], axis=1)\n",
    "y = wine_df['target']\n",
    "X_train, X_test, y_train, y_test = train_test_split(X, \n",
    "                                                    y, \n",
    "                                                    test_size=0.3, \n",
    "                                                    shuffle=True, \n",
    "                                                    stratify=y)\n"
   ]
  },
  {
   "cell_type": "markdown",
   "id": "4ff35b63-eb56-499a-b214-9d4ef877823c",
   "metadata": {},
   "source": [
    "### - `shuffle` - dane mają być losowo \"potasowane\"\n",
    "### - `stratify`  - poszczególne klasy mają być reprezentowane proporcjonalnie w zbiorze testowym\n"
   ]
  },
  {
   "cell_type": "code",
   "execution_count": null,
   "id": "479a8ee1-98ab-416f-9a51-4ea67a8effe6",
   "metadata": {},
   "outputs": [],
   "source": [
    "X_train.var(axis=0)"
   ]
  },
  {
   "cell_type": "code",
   "execution_count": null,
   "id": "89aab33d-42af-4692-8971-60148d7c1880",
   "metadata": {},
   "outputs": [],
   "source": [
    "from sklearn.preprocessing import Normalizer\n",
    "norm = Normalizer().fit(X_train)\n",
    "norm_X_train = norm.transform(X_train)\n",
    "norm_X_train.var(axis=0)"
   ]
  },
  {
   "cell_type": "markdown",
   "id": "577145e8-72ef-4f62-84b6-fd5f1018afcc",
   "metadata": {},
   "source": [
    "### Eliminacja kolumn o niskiej zmienności"
   ]
  },
  {
   "cell_type": "code",
   "execution_count": null,
   "id": "18164a4f-676e-40b3-a741-900b6859e931",
   "metadata": {},
   "outputs": [],
   "source": [
    "from sklearn.feature_selection import VarianceThreshold\n",
    "selector = VarianceThreshold(threshold = 1e-6)\n",
    "selected_features = selector.fit_transform(norm_X_train)\n",
    "selected_features.shape"
   ]
  },
  {
   "cell_type": "markdown",
   "id": "4d965d55-48c4-4c3f-b471-d6674bbe916a",
   "metadata": {},
   "source": [
    "## \"Ręczne\" zrzucanie kolumn"
   ]
  },
  {
   "cell_type": "code",
   "execution_count": null,
   "id": "40b49a76-ef1a-4891-8f21-4e32b8493027",
   "metadata": {},
   "outputs": [],
   "source": [
    "from sklearn.tree import DecisionTreeClassifier\n",
    "from sklearn.metrics import f1_score\n",
    "\n",
    "dt = DecisionTreeClassifier(random_state=42)\n",
    "\n",
    "dt.fit(X_train, y_train)\n",
    "\n",
    "preds = dt.predict(X_test)\n",
    "f1_score_all = round(f1_score(y_test, preds, average='weighted'),3)\n",
    "\n",
    "X_train_sel = X_train.drop(['hue', 'nonflavanoid_phenols'], axis=1)\n",
    "X_test_sel = X_test.drop(['hue', 'nonflavanoid_phenols'], axis=1)\n",
    "dt.fit(X_train_sel, y_train)\n",
    "preds_sel = dt.predict(X_test_sel)\n",
    "f1_score_sel = round(f1_score(y_test, preds_sel, average='weighted'), 3)\n",
    "f1_score_sel"
   ]
  },
  {
   "cell_type": "markdown",
   "id": "4dd8f51a-e7ee-476a-b334-77b407c32202",
   "metadata": {},
   "source": [
    "## Zrzucanie kolumn testem $\\chi^2$"
   ]
  },
  {
   "cell_type": "code",
   "execution_count": null,
   "id": "7f3ef1ee-b53c-4a9f-906b-2ecebc88b352",
   "metadata": {},
   "outputs": [],
   "source": [
    "from sklearn.feature_selection import SelectKBest\n",
    "from sklearn.feature_selection import chi2\n",
    "\n",
    "X_train_v2, X_test_v2, y_train_v2, y_test_v2 = X_train.copy(), X_test.copy(), y_train.copy(), y_test.copy()\n",
    "f1_score_list = []\n",
    "for k in range(1, 14):\n",
    "    selector = SelectKBest(chi2, k=k)\n",
    "    selector.fit(X_train_v2, y_train_v2)\n",
    "    \n",
    "    sel_X_train_v2 = selector.transform(X_train_v2)\n",
    "    sel_X_test_v2 = selector.transform(X_test_v2)\n",
    "    \n",
    "    dt.fit(sel_X_train_v2, y_train_v2)\n",
    "    kbest_preds = dt.predict(sel_X_test_v2)\n",
    "    f1_score_kbest = round(f1_score(y_test, kbest_preds, average='weighted'), 3)\n",
    "    f1_score_list.append(f1_score_kbest)\n",
    "\n",
    "print(f1_score_list)"
   ]
  },
  {
   "cell_type": "code",
   "execution_count": null,
   "id": "3892e052-c480-4b5b-915b-8125eb9964ac",
   "metadata": {},
   "outputs": [],
   "source": [
    "fig, ax = plt.subplots(figsize=(12, 6))\n",
    "x = list(range(0,13))\n",
    "y = f1_score_list\n",
    "ax.bar(x, y, width=0.4)\n",
    "ax.set_xlabel('Ilość wymiarów wybranych testem chi2')\n",
    "ax.set_ylabel('F1-Score (weighted)')\n",
    "ax.set_ylim(0, 1.2)\n",
    "for index, value in enumerate(y):\n",
    "    plt.text(x=index, y=value + 0.05, s=str(value), ha='center')\n",
    "    \n",
    "plt.tight_layout()"
   ]
  },
  {
   "cell_type": "markdown",
   "id": "1c6d2e85-5ee8-402f-a35e-c7f9a7c0add5",
   "metadata": {},
   "source": [
    "## Syntetyczne dane klasyfikacyjne"
   ]
  },
  {
   "cell_type": "code",
   "execution_count": null,
   "id": "2e2fce89-9af5-4473-a462-b9a8fe62e2a8",
   "metadata": {},
   "outputs": [],
   "source": [
    "from sklearn.datasets import make_classification\n",
    "\n",
    "X, y= make_classification(n_samples=1000, n_features=20, n_informative=5, n_redundant=5, n_repeated=5, n_classes=2)\n",
    "\n",
    "pd.DataFrame(X)"
   ]
  },
  {
   "cell_type": "markdown",
   "id": "f7c0d3b4-df74-4b83-9001-1133dff0db6f",
   "metadata": {},
   "source": [
    "---\n",
    "# <span style=\"color: magenta\">Ćwiczenie - w powyższym zbiorze jest 5 przydatnych kolumn. Zastosować mechanizmy selekcji wymiarów do redukcji w/w tabeli do 5 wymiarów</span>\n",
    "---"
   ]
  },
  {
   "cell_type": "markdown",
   "id": "312b79d9-1194-428b-84a3-1cccb841bb65",
   "metadata": {},
   "source": [
    "## Recursive Feature Elimination\n",
    "\n",
    "### - korzystając z osobnego estymatora posiadającego `coef_` lub `feature_importance_` iteracyjnie odrzucane są kolejne wagi"
   ]
  },
  {
   "cell_type": "code",
   "execution_count": null,
   "id": "7cd32f5f-30ae-4417-a6c7-6818ff00e341",
   "metadata": {},
   "outputs": [],
   "source": [
    "from sklearn.feature_selection import RFE\n",
    "\n",
    "X_train_v3, X_test_v3, y_train_v3, y_test_v3 = X_train.copy(), X_test.copy(), y_train.copy(), y_test.copy()\n",
    "RFE_selector = RFE(estimator=dt, n_features_to_select=4, step=1)\n",
    "RFE_selector.fit(X_train_v3, y_train_v3)"
   ]
  },
  {
   "cell_type": "code",
   "execution_count": null,
   "id": "6753d99f-d630-456d-a92c-897ad699ff0a",
   "metadata": {},
   "outputs": [],
   "source": [
    "X_train_v3.columns[RFE_selector.support_]"
   ]
  },
  {
   "cell_type": "code",
   "execution_count": null,
   "id": "782f4487-9f1f-466d-9134-5ef36f7cb02b",
   "metadata": {},
   "outputs": [],
   "source": [
    "sel_X_train_v3 = RFE_selector.transform(X_train_v3)\n",
    "sel_X_test_v3 = RFE_selector.transform(X_test_v3)\n",
    "dt.fit(sel_X_train_v3, y_train_v3)\n",
    "RFE_preds = dt.predict(sel_X_test_v3)\n",
    "rfe_f1_score = round(f1_score(y_test_v3, RFE_preds, average='weighted'),3)\n",
    "print(rfe_f1_score)"
   ]
  },
  {
   "cell_type": "markdown",
   "id": "e7956bc9-09b3-4b07-a1ec-c218479a9351",
   "metadata": {},
   "source": [
    "## Select from model\n",
    "\n",
    "### - korzystając z osobnego estymatora posiadającego `coef_` lub `feature_importance_` iteracyjnie odrzucane są kolejne wagi"
   ]
  },
  {
   "cell_type": "code",
   "execution_count": null,
   "id": "639dead3-a28b-47ed-8646-34e1e91383c3",
   "metadata": {},
   "outputs": [],
   "source": [
    "from sklearn.feature_selection import SelectFromModel\n",
    "\n",
    "X_train_v4, X_test_v4, y_train_v4, y_test_v4 = X_train.copy(), X_test.copy(), y_train.copy(), y_test.copy()\n",
    "\n",
    "sfm_selector = SelectFromModel(estimator=DecisionTreeClassifier())\n",
    "sfm_selector.fit(X_train_v4,  y_train_v4)"
   ]
  },
  {
   "cell_type": "code",
   "execution_count": null,
   "id": "fe571f63-6943-4a3c-b126-b9f5d3eee8f1",
   "metadata": {},
   "outputs": [],
   "source": [
    "X.columns[sfm_selector.get_support()]"
   ]
  },
  {
   "cell_type": "code",
   "execution_count": null,
   "id": "7b455db1-3028-4c34-8a6a-1d488d3d2830",
   "metadata": {},
   "outputs": [],
   "source": [
    "sel_X_train_v4 = sfm_selector.transform(X_train_v4)\n",
    "sel_X_test_v4 = sfm_selector.transform(X_test_v4)\n",
    "\n",
    "dt.fit(sel_X_train_v4, y_train_v4)\n",
    "sfm_preds = dt.predict(sel_X_test_v4)\n",
    "sfm_f1_score = round(f1_score(y_test_v4, sfm_preds, average='weighted'),3)\n",
    "print(rfe_f1_score)"
   ]
  },
  {
   "cell_type": "markdown",
   "id": "45e9f4a6-b57d-434f-9272-b177f530d663",
   "metadata": {},
   "source": [
    "---\n",
    "# <span style=\"color: magenta\">Ćwiczenie - w klasyfikatorze spamu z wczoraj, zredukować ilość wymiarów w `DecisionTreeClassifier`. </span>\n",
    "\n",
    "# <span style=\"color: magenta\">Ćwiczenie - Wyświetlić tak uproszczone drzewo. </span>\n",
    "---"
   ]
  },
  {
   "cell_type": "markdown",
   "id": "51ca7d42-1c8b-43c4-a296-7a7f63a95b86",
   "metadata": {},
   "source": [
    "# Pipeline"
   ]
  },
  {
   "cell_type": "code",
   "execution_count": null,
   "id": "ba448906-f0d8-4963-98b7-2cd0f9dd4dc5",
   "metadata": {},
   "outputs": [],
   "source": [
    "from sklearn.pipeline import Pipeline\n",
    "from sklearn.svm import LinearSVC\n",
    "\n",
    "ppln_clf = Pipeline([\n",
    "  ('feature_selection', SelectFromModel(LinearSVC())),\n",
    "  ('classification', DecisionTreeClassifier())\n",
    "])\n",
    "ppln_clf.fit(X_train, y_train)"
   ]
  },
  {
   "cell_type": "code",
   "execution_count": null,
   "id": "02006106-1c43-4608-bfb4-f55781db306b",
   "metadata": {},
   "outputs": [],
   "source": [
    "ppln_preds = ppln_clf.predict(X_test)\n",
    "ppln_f1_score = round(f1_score(y_test, ppln_preds, average='weighted'),3)\n",
    "ppln_f1_score"
   ]
  },
  {
   "cell_type": "code",
   "execution_count": null,
   "id": "f25ffd3e-ca70-47d2-9b06-63acafccfa79",
   "metadata": {},
   "outputs": [],
   "source": [
    "from sklearn.pipeline import Pipeline\n",
    "from sklearn.svm import LinearSVC\n",
    "\n",
    "ppln_clf = Pipeline([\n",
    "  ('feature_selection', SelectKBest(chi2, k=4)),\n",
    "  ('classification', DecisionTreeClassifier())\n",
    "])\n",
    "ppln_clf.fit(X_train, y_train)"
   ]
  },
  {
   "cell_type": "code",
   "execution_count": null,
   "id": "7298179e-3119-4396-a897-977f7b887d48",
   "metadata": {},
   "outputs": [],
   "source": [
    "ppln_preds = ppln_clf.predict(X_test)\n",
    "ppln_f1_score = round(f1_score(y_test, ppln_preds, average='weighted'),3)\n",
    "ppln_f1_score"
   ]
  },
  {
   "cell_type": "markdown",
   "id": "a3ecb761-d9ee-490a-895e-4acef5dca3b1",
   "metadata": {},
   "source": [
    "---\n",
    "# <span style=\"color: magenta\">Ćwiczenie - Przerobić kod z poprzedniego ćwiczenia w `pipeline` </span>\n",
    "---"
   ]
  },
  {
   "cell_type": "code",
   "execution_count": null,
   "id": "4be3ca42-3913-4898-a72f-b457537dcf50",
   "metadata": {},
   "outputs": [],
   "source": [
    "import pandas as pd\n",
    "\n",
    "data = pd.read_csv('data/adverts_29_04.csv', sep=';')\n",
    "data['cena_za_metr'] = data['Cena'] / data['Wielkość (m2)']\n",
    "data = data.dropna(subset=['cena_za_metr'])\n",
    "df = data.drop(['Cena', 'Data dodania'], axis=1)\n",
    "df"
   ]
  },
  {
   "cell_type": "code",
   "execution_count": null,
   "id": "829720ba-1d34-4c94-9172-0311e56c8d9b",
   "metadata": {},
   "outputs": [],
   "source": [
    "dum_df = pd.get_dummies(df, columns=['Lokalizacja', 'Na sprzedaż przez', 'Rodzaj nieruchomości', 'Liczba pokoi', 'Liczba łazienek', 'Parking'])\n",
    "dum_df"
   ]
  },
  {
   "cell_type": "code",
   "execution_count": null,
   "id": "422cea10-e70b-443e-b293-ecccccf05d78",
   "metadata": {},
   "outputs": [],
   "source": [
    "dum_df.columns"
   ]
  },
  {
   "cell_type": "code",
   "execution_count": null,
   "id": "987695b0-9c04-4723-90ca-e44eedf8ffb1",
   "metadata": {},
   "outputs": [],
   "source": [
    "import matplotlib.pyplot as plt\n",
    "\n",
    "plt.hist(dum_df['cena_za_metr'], 50,\n",
    "         density=True,\n",
    "         histtype='bar',\n",
    "         facecolor='b',\n",
    "         alpha=0.5)\n",
    "\n",
    "plt.show()"
   ]
  },
  {
   "cell_type": "code",
   "execution_count": null,
   "id": "d01ee454-013a-4209-8a61-95a3ffe56648",
   "metadata": {},
   "outputs": [],
   "source": [
    "dum_df.drop(dum_df[dum_df.cena_za_metr >30000.0].index, inplace=True)"
   ]
  },
  {
   "cell_type": "code",
   "execution_count": null,
   "id": "54d327fb-1d4c-4824-aeb8-ced22ce41c5b",
   "metadata": {},
   "outputs": [],
   "source": [
    "import matplotlib.pyplot as plt\n",
    "\n",
    "plt.hist(dum_df['cena_za_metr'], 50,\n",
    "         density=True,\n",
    "         histtype='bar',\n",
    "         facecolor='b',\n",
    "         alpha=0.5)\n",
    "\n",
    "plt.show()"
   ]
  },
  {
   "cell_type": "code",
   "execution_count": null,
   "id": "4040ff63-ae3e-456e-a0ef-593aa9ce65be",
   "metadata": {},
   "outputs": [],
   "source": [
    "dum_df.corr()['cena_za_metr']"
   ]
  },
  {
   "cell_type": "markdown",
   "id": "933d3258-9f02-46a1-ba38-ac3ab068bf74",
   "metadata": {},
   "source": [
    "## Mapa ciepła korelacji parametrów"
   ]
  },
  {
   "cell_type": "code",
   "execution_count": null,
   "id": "d849920b-0c8e-4836-bf22-f57d78d11c1e",
   "metadata": {},
   "outputs": [],
   "source": [
    "import numpy as np\n",
    "import seaborn as sns\n",
    "import matplotlib.pyplot as plt\n",
    "import matplotlib.dates as mdates\n",
    "\n",
    "plt.figure(figsize=(20,15))\n",
    "plt.style.use(\"dark_background\")\n",
    "\n",
    "sns.heatmap(dum_df.corr(), cmap=\"seismic\", annot=True, vmin=-1, vmax=1);"
   ]
  },
  {
   "cell_type": "code",
   "execution_count": null,
   "id": "64cf18c0-06fd-4a36-b7ed-44a00ce35c43",
   "metadata": {},
   "outputs": [],
   "source": [
    "plt.hist(dum_df['Wielkość (m2)'], 50,\n",
    "         density=True,\n",
    "         histtype='bar',\n",
    "         facecolor='b',\n",
    "         alpha=0.5)\n",
    "\n",
    "plt.show()"
   ]
  },
  {
   "cell_type": "code",
   "execution_count": null,
   "id": "394e5497-bf3b-4658-b956-d3ec412b55c1",
   "metadata": {},
   "outputs": [],
   "source": [
    "dum_df.drop(dum_df[dum_df['Wielkość (m2)'] >300.0].index, inplace=True)\n",
    "dum_df"
   ]
  },
  {
   "cell_type": "markdown",
   "id": "89c6f877-701d-4c06-a150-f51d73b4dc04",
   "metadata": {},
   "source": [
    "---\n",
    "# Regresja"
   ]
  },
  {
   "cell_type": "code",
   "execution_count": null,
   "id": "5a6ff979-9cb3-40d2-9637-4ebc57aca468",
   "metadata": {},
   "outputs": [],
   "source": [
    "from sklearn.linear_model import LinearRegression\n",
    "\n",
    "y = dum_df['cena_za_metr']\n",
    "X = dum_df.drop(['opis', 'cena_za_metr'], axis=1)\n",
    "\n",
    "reg = LinearRegression().fit(X, y)"
   ]
  },
  {
   "cell_type": "code",
   "execution_count": null,
   "id": "bcf01954-96a4-49b8-9b53-5017d2f346d3",
   "metadata": {},
   "outputs": [],
   "source": [
    "reg.score(X, y)"
   ]
  },
  {
   "cell_type": "markdown",
   "id": "de74b059-15fc-400d-85c3-44072c6171d4",
   "metadata": {},
   "source": [
    "# $R^2$"
   ]
  },
  {
   "cell_type": "markdown",
   "id": "50c92f1d-873e-4444-afbf-15092764a98a",
   "metadata": {},
   "source": [
    "X_train, X_test, y_train, y_test = train_test_split(X, y, test_size=0.1, random_state=17)https://en.wikipedia.org/wiki/Coefficient_of_determination\n",
    "\n",
    "Współczynnik determinacji - Jaka część wariancji zmiennej objaśnianej jest pochodzi od zmiennych tłumaczących\n",
    "\n",
    "- 1.0 - Idealnie dopasowania\n",
    "- 0.0 - Funkcja stała\n",
    "- ... ale może być i ujemna"
   ]
  },
  {
   "cell_type": "code",
   "execution_count": null,
   "id": "06fd5990-30af-4ce8-adbd-529561c2578c",
   "metadata": {},
   "outputs": [],
   "source": [
    "from sklearn.model_selection import train_test_split\n",
    "\n",
    "X_train, X_test, y_train, y_test = train_test_split(X, y, test_size=0.1, random_state=17)\n",
    "reg = LinearRegression().fit(X_train, y_train)\n",
    "reg.score(X_test, y_test)"
   ]
  },
  {
   "cell_type": "markdown",
   "id": "f735273a-cdf9-4dfd-b2f2-62cbf79b47d2",
   "metadata": {},
   "source": [
    "---\n",
    "## Walidacja krzyżowa\n",
    "\n",
    "![Walidacja krzyżowa](img\\xvi.png)\n",
    "\n",
    "https://scikit-learn.org/stable/modules/cross_validation.html"
   ]
  },
  {
   "cell_type": "code",
   "execution_count": null,
   "id": "cec4c4d7-e04a-4afd-9849-50dff289b8e9",
   "metadata": {},
   "outputs": [],
   "source": [
    "from sklearn.model_selection import cross_val_score\n",
    "import pandas as pd\n",
    "from sklearn.linear_model import LinearRegression\n",
    "from sklearn.metrics import mean_squared_error, make_scorer\n",
    "from sklearn.model_selection import train_test_split\n",
    "from sklearn.model_selection import cross_val_score\n",
    "\n",
    "\n",
    "X_train, X_test, y_train, y_test = train_test_split(X, y, test_size=0.1, random_state=17)\n",
    "scores = cross_val_score(LinearRegression(), X_train, y_train, cv=10)\n",
    "print(list(scores))\n",
    "print()\n",
    "print(\"Mean r^2: %0.2f (+/- %0.2f)\" % (scores.mean(), scores.std() * 2))"
   ]
  },
  {
   "cell_type": "markdown",
   "id": "e4c6ba0a-0cd2-4109-8622-e2cbee2280d1",
   "metadata": {},
   "source": [
    "## Zmiana techniki scoringu"
   ]
  },
  {
   "cell_type": "code",
   "execution_count": null,
   "id": "771d7f6c-e771-452f-8c71-2891c7ea9928",
   "metadata": {},
   "outputs": [],
   "source": [
    "from sklearn.metrics import mean_squared_error, make_scorer\n",
    "\n",
    "\n",
    "scores = cross_val_score(LinearRegression(), X_train, y_train, scoring=make_scorer(mean_squared_error), cv=5)\n",
    "print(list(scores))\n",
    "print()\n",
    "print(\"Mean square error: %0.2f (+/- %0.2f)\" % (scores.mean(), scores.std() * 2))"
   ]
  },
  {
   "cell_type": "markdown",
   "id": "b4514349-de9e-4299-9417-f9e43b12dfdc",
   "metadata": {},
   "source": [
    "## Zmiana regresora"
   ]
  },
  {
   "cell_type": "code",
   "execution_count": null,
   "id": "0aa0e2c4-ecfa-468d-980d-c976781820b2",
   "metadata": {},
   "outputs": [],
   "source": [
    "from sklearn.svm import SVR\n",
    "\n",
    "scores = cross_val_score(SVR(kernel='linear', C=1000), X_train, y_train, cv=5)\n",
    "print(list(scores))\n",
    "print()\n",
    "print(\"Mean r^2: %0.2f (+/- %0.2f)\" % (scores.mean(), scores.std() * 2))"
   ]
  },
  {
   "cell_type": "code",
   "execution_count": null,
   "id": "3b38fb39-ab67-44ab-8328-720a86739f82",
   "metadata": {},
   "outputs": [],
   "source": [
    "from sklearn.svm import SVR\n",
    "\n",
    "scores = cross_val_score(SVR(kernel='linear', C=10), X_train, y_train, cv=5)\n",
    "print(list(scores))\n",
    "print()\n",
    "print(\"Mean r^2: %0.2f (+/- %0.2f)\" % (scores.mean(), scores.std() * 2))"
   ]
  },
  {
   "cell_type": "code",
   "execution_count": null,
   "id": "68eff29d-6149-4b1f-87aa-a679e336845f",
   "metadata": {},
   "outputs": [],
   "source": [
    "from sklearn.svm import SVR\n",
    "\n",
    "scores = cross_val_score(SVR(kernel='linear', C=100), X_train, y_train, cv=5)\n",
    "print(list(scores))\n",
    "print()\n",
    "print(\"Mean r^2: %0.2f (+/- %0.2f)\" % (scores.mean(), scores.std() * 2))"
   ]
  },
  {
   "cell_type": "code",
   "execution_count": null,
   "id": "b612dae3-6570-4806-9420-5333175c85e4",
   "metadata": {},
   "outputs": [],
   "source": [
    "from sklearn.svm import SVR\n",
    "\n",
    "scores = cross_val_score(SVR(kernel='rbf', C=1000), X_train, y_train, cv=5)\n",
    "print(list(scores))\n",
    "print()\n",
    "print(\"Mean r^2: %0.2f (+/- %0.2f)\" % (scores.mean(), scores.std() * 2))"
   ]
  },
  {
   "cell_type": "code",
   "execution_count": null,
   "id": "036a39af-2758-4a35-96ea-253eb6149733",
   "metadata": {},
   "outputs": [],
   "source": [
    "from sklearn.ensemble import GradientBoostingRegressor\n",
    "\n",
    "from sklearn.svm import SVR\n",
    "\n",
    "scores = cross_val_score(GradientBoostingRegressor(), X_train, y_train, cv=10)\n",
    "print(list(scores))\n",
    "print()\n",
    "print(\"Mean r^2: %0.2f (+/- %0.2f)\" % (scores.mean(), scores.std() * 2))"
   ]
  },
  {
   "cell_type": "markdown",
   "id": "ebc2fe9f-c8f6-46fb-9f53-435a1048e0fc",
   "metadata": {},
   "source": [
    "## Hiperparametry\n",
    "### `C` - współczynnik regularyzacji - odwrotność siły regularyzacji czyli __*\"czynienia rozwiązania prostszym\"*__\n"
   ]
  },
  {
   "cell_type": "code",
   "execution_count": null,
   "id": "f901de72-d1ed-481a-b276-d285d07281e4",
   "metadata": {},
   "outputs": [],
   "source": [
    "%matplotlib inline\n",
    "import matplotlib.pyplot as plt\n",
    "import numpy as np\n",
    "plt.style.use(\"dark_background\")\n",
    "plt.figure(figsize=(10,6))\n",
    "x = np.linspace(-0.5, 2, 100)\n",
    "plt.plot(x, x*(5*x-1)*(x-2))\n",
    "y = np.linspace(0, 1.4, 3)\n",
    "plt.scatter(y, -3.4*y, color=\"#FF00FF\");\n",
    "z = np.linspace(-0.5, 2, 50)\n",
    "plt.plot(z, -3.4*z-0.3);"
   ]
  },
  {
   "cell_type": "markdown",
   "id": "269e1c58-8468-4d33-9ed6-3cfbd11099ee",
   "metadata": {},
   "source": [
    "## GridSearch elementów `Pipeline`"
   ]
  },
  {
   "cell_type": "code",
   "execution_count": null,
   "id": "8dfb5622-0431-415b-9084-dbfd4efba3ab",
   "metadata": {},
   "outputs": [],
   "source": [
    "from sklearn.base import BaseEstimator, TransformerMixin\n",
    "from sklearn.preprocessing import StandardScaler, Normalizer\n",
    "from sklearn.decomposition import TruncatedSVD\n",
    "from sklearn.feature_extraction.text import TfidfVectorizer\n",
    "from sklearn.pipeline import Pipeline\n",
    "from sklearn.linear_model import LinearRegression, Ridge\n",
    "from sklearn.svm import SVR\n",
    "from warnings import simplefilter\n",
    "simplefilter(action='ignore', category=DeprecationWarning)\n",
    "\n",
    "pipe = Pipeline([\n",
    "    ('scale',  'passthrough'),\n",
    "    ('regression', SVR())\n",
    "])\n",
    "\n"
   ]
  },
  {
   "cell_type": "code",
   "execution_count": null,
   "id": "58a5f73e-4ed2-4639-82ff-de1ef7a0a3ee",
   "metadata": {},
   "outputs": [],
   "source": [
    "pipe.set_params(regression__C=10)"
   ]
  },
  {
   "cell_type": "code",
   "execution_count": null,
   "id": "f8856e0a-a382-49de-afa9-a094fef02f2a",
   "metadata": {},
   "outputs": [],
   "source": [
    "param_grid = dict(regression__C=[0.1, 10, 100])"
   ]
  },
  {
   "cell_type": "code",
   "execution_count": null,
   "id": "6dbbe7d0-eaf8-4c48-bdba-b20fb9ef6805",
   "metadata": {},
   "outputs": [],
   "source": [
    "from sklearn.model_selection import GridSearchCV\n",
    "\n",
    "grid_search = GridSearchCV(pipe, param_grid, verbose=1, cv=3)\n",
    "grid_search"
   ]
  },
  {
   "cell_type": "markdown",
   "id": "70502754-931b-4b85-ba20-e1527c98e398",
   "metadata": {},
   "source": [
    "## Scalers\n",
    "- StandardScaler (standardyzacja - odejmuję średnia, dzieli przez wariancję)\n",
    "- Normalizer (normalizacja - dzieli przez długość - sprowadza do wektora o normie 1)\n",
    "- RobustScaler (odejmuje medianę i skaluje kwartylami)"
   ]
  },
  {
   "cell_type": "code",
   "execution_count": null,
   "id": "4be6fc1b-af05-4105-af02-762e2439ece9",
   "metadata": {},
   "outputs": [],
   "source": [
    "from time import time\n",
    "\n",
    "param_grid = dict( \n",
    "    scale=['passthrough', StandardScaler(), Normalizer()],\n",
    "    regression__C=[ 10, 100],\n",
    "    regression__kernel=['linear']\n",
    ")\n",
    "                  \n",
    "print(param_grid)\n",
    "\n",
    "###################################\n",
    "\n",
    "grid_search = GridSearchCV(pipe, param_grid, verbose=1, cv=5, n_jobs=2)\n",
    "\n",
    "###################################\n",
    "\n",
    "t0 = time()\n",
    "grid_search.fit(X_train, y_train)\n",
    "print(\"done in %0.3fs\" % (time() - t0))\n",
    "print()\n",
    "print(\"Best parameters set:\")\n",
    "print(grid_search.best_estimator_)\n",
    "print()\n",
    "print(f\"Best score: {grid_search.best_score_}\")"
   ]
  },
  {
   "cell_type": "markdown",
   "id": "8279c220-f3e3-4fd4-9c10-a28ad5a7662e",
   "metadata": {},
   "source": [
    "- 5 - Walidacja krzyżowa\n",
    "- 2 - parametry $C$\n",
    "- 3 - scaler\n",
    "\n",
    "$ 5 * 2 * 3 = 30 $ przebiegów"
   ]
  },
  {
   "cell_type": "markdown",
   "id": "a9a4217a-acfa-4079-8783-cc1a7c11fd68",
   "metadata": {},
   "source": [
    "---\n",
    "# Random Forest Classifier"
   ]
  },
  {
   "cell_type": "markdown",
   "id": "5bd736c5-8364-48e3-b279-c6a2b2e23315",
   "metadata": {},
   "source": [
    "https://www.kaggle.com/datasets/yufengsui/portuguese-bank-marketing-data-set"
   ]
  },
  {
   "cell_type": "code",
   "execution_count": null,
   "id": "b9f39096-9bea-4ef5-8e7c-db47beb4372e",
   "metadata": {},
   "outputs": [],
   "source": [
    "import pandas as pd\n",
    "import numpy as np\n",
    "from sklearn.ensemble import RandomForestClassifier\n",
    "from sklearn.metrics import accuracy_score, confusion_matrix, precision_score, recall_score, ConfusionMatrixDisplay\n",
    "from sklearn.model_selection import RandomizedSearchCV, train_test_split\n",
    "from scipy.stats import randint\n",
    "from sklearn.tree import export_graphviz\n",
    "from IPython.display import Image\n",
    "import graphviz"
   ]
  },
  {
   "cell_type": "code",
   "execution_count": null,
   "id": "3af3aaf4-cc67-417b-a27e-73c4941fb36c",
   "metadata": {},
   "outputs": [],
   "source": [
    "bank_data = pd.read_csv('data/bank-full.csv', sep=';')\n",
    "bank_data"
   ]
  },
  {
   "cell_type": "markdown",
   "id": "d7b7a975-ae2f-4817-8f1b-f89c83b430f1",
   "metadata": {},
   "source": [
    "## Binaryzacja "
   ]
  },
  {
   "cell_type": "code",
   "execution_count": null,
   "id": "5c51a1b3-e851-4ffa-b16b-292ed99964d1",
   "metadata": {},
   "outputs": [],
   "source": [
    "bank_data['default'] = bank_data['default'].map({'no':0,'yes':1,'unknown':0})\n",
    "\n",
    "bank_data['y'] = bank_data['y'].map({'no':0,'yes':1})\n",
    "bank_data['housing'] = bank_data['housing'].map({'no':0,'yes':1})\n",
    "bank_data['loan'] = bank_data['loan'].map({'no':0,'yes':1})\n",
    "bank_data"
   ]
  },
  {
   "cell_type": "markdown",
   "id": "e8e815b0-7c81-45bb-8868-bd4274f6b773",
   "metadata": {},
   "source": [
    "## Konwersja zmiennych kategorycznych"
   ]
  },
  {
   "cell_type": "code",
   "execution_count": null,
   "id": "4d5f823e-7b74-42b4-94f3-502e254ff6f1",
   "metadata": {},
   "outputs": [],
   "source": [
    "bank_data = pd.get_dummies(bank_data, columns=['job', 'marital', 'education', 'contact', 'month', 'poutcome'])\n",
    "bank_data"
   ]
  },
  {
   "cell_type": "code",
   "execution_count": null,
   "id": "4212e164-b9f8-4b2c-ad97-4f7a01ab9c3b",
   "metadata": {},
   "outputs": [],
   "source": [
    "X = bank_data.drop('y', axis=1)\n",
    "y = bank_data['y']\n",
    "\n",
    "X_train, X_test, y_train, y_test = train_test_split(X, y, test_size=0.2)"
   ]
  },
  {
   "cell_type": "code",
   "execution_count": null,
   "id": "9bdd6475-13a2-4054-b3e5-9c84ba92a5d7",
   "metadata": {},
   "outputs": [],
   "source": [
    "rf = RandomForestClassifier()\n",
    "rf.fit(X_train, y_train)"
   ]
  },
  {
   "cell_type": "code",
   "execution_count": null,
   "id": "1633bf3f-10a9-437c-9ade-2e2914097cc0",
   "metadata": {},
   "outputs": [],
   "source": [
    "y_pred = rf.predict(X_test)\n",
    "accuracy = accuracy_score(y_test, y_pred)\n",
    "print(\"Accuracy:\", accuracy)"
   ]
  },
  {
   "cell_type": "markdown",
   "id": "60ad29d4-7606-4647-a849-fff2d406ee91",
   "metadata": {},
   "source": [
    "## Wiele estymatorów"
   ]
  },
  {
   "cell_type": "code",
   "execution_count": null,
   "id": "397b2212-de71-4b2c-9303-877a5b2a4358",
   "metadata": {},
   "outputs": [],
   "source": [
    " rf.estimators_"
   ]
  },
  {
   "cell_type": "code",
   "execution_count": null,
   "id": "2350f794-3dc7-4b6e-8bd2-ac2f370c2c0f",
   "metadata": {},
   "outputs": [],
   "source": [
    "\n",
    "for i in range(3):\n",
    "    tree = rf.estimators_[i]\n",
    "    dot_data = export_graphviz(tree,\n",
    "                               feature_names=X_train.columns,  \n",
    "                               filled=True,  \n",
    "                               max_depth=2, \n",
    "                               impurity=False, \n",
    "                               proportion=True)\n",
    "    graph = graphviz.Source(dot_data)\n",
    "    display(graph)"
   ]
  },
  {
   "cell_type": "markdown",
   "id": "2375b18a-5a78-46f3-98f7-9074cd4e3e0c",
   "metadata": {},
   "source": [
    "## `RandomizedSearchCV`"
   ]
  },
  {
   "cell_type": "code",
   "execution_count": null,
   "id": "b83dae3c-ea05-4862-aa66-fa6ebda82631",
   "metadata": {},
   "outputs": [],
   "source": [
    "param_dist = {'n_estimators': randint(50,500),\n",
    "              'max_depth': randint(1,20)}\n",
    "\n",
    "rf = RandomForestClassifier()\n",
    "\n",
    "rand_search = RandomizedSearchCV(rf, \n",
    "                                 param_distributions = param_dist, \n",
    "                                 n_iter=5, \n",
    "                                 cv=5, n_jobs=3)\n",
    "\n",
    "rand_search.fit(X_train, y_train)"
   ]
  },
  {
   "cell_type": "markdown",
   "id": "8e4d73c7-f4da-4857-a659-4cacd292a404",
   "metadata": {},
   "source": [
    "## Najlepszy estymator"
   ]
  },
  {
   "cell_type": "code",
   "execution_count": null,
   "id": "b3220ab9-8308-4059-8770-ada91f1be6f2",
   "metadata": {},
   "outputs": [],
   "source": [
    "best_rf = rand_search.best_estimator_\n",
    "\n",
    "print('Best hyperparameters:',  rand_search.best_params_)"
   ]
  },
  {
   "cell_type": "code",
   "execution_count": null,
   "id": "a85ac2a7-e281-4b33-bf38-77939346cd32",
   "metadata": {},
   "outputs": [],
   "source": [
    "y_pred = best_rf.predict(X_test)\n",
    "\n",
    "cm = confusion_matrix(y_test, y_pred)\n",
    "\n",
    "ConfusionMatrixDisplay(confusion_matrix=cm).plot();"
   ]
  },
  {
   "cell_type": "markdown",
   "id": "167c1bb5-7f0c-4f57-b616-09a102687d6a",
   "metadata": {},
   "source": [
    "---\n",
    "# XGBoost"
   ]
  },
  {
   "cell_type": "markdown",
   "id": "ff648fc4-5912-4f2b-9cf6-0d3a1f462732",
   "metadata": {},
   "source": [
    "conda install -c conda-forge xgboost"
   ]
  },
  {
   "cell_type": "code",
   "execution_count": null,
   "id": "4add4ff1-b101-4956-b7fa-1d974d06fa74",
   "metadata": {},
   "outputs": [],
   "source": [
    "!conda install -c conda-forge xgboost"
   ]
  },
  {
   "cell_type": "markdown",
   "id": "412eed13-f485-44c3-baa5-37782ad173ed",
   "metadata": {},
   "source": [
    "## <span style=\"color: cyan\">- Numeric features should be scaled </cyan>\n",
    "## <span style=\"color: cyan\">- Categorical features should be encoded </cyan>"
   ]
  },
  {
   "cell_type": "markdown",
   "id": "8d0ea6ad-0f55-4d0e-8d52-1b1ddb561234",
   "metadata": {},
   "source": [
    "https://www.kaggle.com/datasets/jsphyg/weather-dataset-rattle-package\n",
    "    "
   ]
  },
  {
   "cell_type": "code",
   "execution_count": null,
   "id": "2b7a81fc-8faa-4a7f-a1e7-0324ac13a743",
   "metadata": {},
   "outputs": [],
   "source": [
    "import pandas as pd\n",
    "\n",
    "rain = pd.read_csv(\"data/weatherAUS.csv\")\n",
    "rain"
   ]
  },
  {
   "cell_type": "code",
   "execution_count": null,
   "id": "ba6be3b3-37dc-44f9-a252-3adda231c351",
   "metadata": {},
   "outputs": [],
   "source": [
    "cols_to_drop = [\"Date\", \"Location\", \"RainTomorrow\", \"Rainfall\"]\n",
    "\n",
    "rain.drop(cols_to_drop, axis=1, inplace=True)"
   ]
  },
  {
   "cell_type": "markdown",
   "id": "c6309aa8-c8b0-45ea-9f2d-295ac483b291",
   "metadata": {},
   "source": [
    "## Usuwamy kolumny z dużą ilością `NaN`"
   ]
  },
  {
   "cell_type": "code",
   "execution_count": null,
   "id": "5fea6818-44dc-4f86-8bf9-569175cea7a4",
   "metadata": {},
   "outputs": [],
   "source": [
    "missing_props = rain.isna().mean(axis=0)\n",
    "\n",
    "over_threshold = missing_props[missing_props >= 0.4]"
   ]
  },
  {
   "cell_type": "code",
   "execution_count": null,
   "id": "50d094d3-1269-4f3d-bbb3-515c5380fa02",
   "metadata": {},
   "outputs": [],
   "source": [
    "rain.drop(over_threshold.index, \n",
    "          axis=1, \n",
    "          inplace=True)"
   ]
  },
  {
   "cell_type": "code",
   "execution_count": null,
   "id": "21c06812-456e-4668-acfe-ca59158e8825",
   "metadata": {},
   "outputs": [],
   "source": [
    "rain['RainToday'] = rain['RainToday'].map({'No':0,'Yes':1})"
   ]
  },
  {
   "cell_type": "code",
   "execution_count": null,
   "id": "0fc85676-6910-4d36-b113-4483c6055551",
   "metadata": {},
   "outputs": [],
   "source": [
    "X = rain.drop(\"RainToday\", axis=1)\n",
    "y = rain.RainToday"
   ]
  },
  {
   "cell_type": "code",
   "execution_count": null,
   "id": "ecc2bc49-c546-486c-831f-ae59437e0a96",
   "metadata": {},
   "outputs": [],
   "source": [
    "y"
   ]
  },
  {
   "cell_type": "markdown",
   "id": "dfb3de04-2fa3-4cc5-b2c5-71ba0dc57a83",
   "metadata": {},
   "source": [
    "## Uzupełniamy braki w kategorycznych kolumnach"
   ]
  },
  {
   "cell_type": "code",
   "execution_count": null,
   "id": "502e9cb3-3ba4-471f-8e06-4e15cb8a7a27",
   "metadata": {},
   "outputs": [],
   "source": [
    "from sklearn.impute import SimpleImputer\n",
    "from sklearn.pipeline import Pipeline\n",
    "from sklearn.preprocessing import OneHotEncoder\n",
    "\n",
    "categorical_pipeline = Pipeline(\n",
    "    steps=[\n",
    "        (\"impute\", SimpleImputer(strategy=\"most_frequent\")),\n",
    "        (\"oh-encode\", OneHotEncoder(handle_unknown=\"ignore\", sparse=False)),\n",
    "    ]\n",
    ")"
   ]
  },
  {
   "cell_type": "code",
   "execution_count": null,
   "id": "6c304e28-8ef9-4454-afeb-7e49cf183b95",
   "metadata": {},
   "outputs": [],
   "source": [
    "## Uzupełniamy braki w kolumnach liczbowych"
   ]
  },
  {
   "cell_type": "code",
   "execution_count": null,
   "id": "29dacccc-382c-4ba8-8128-03731e3bd147",
   "metadata": {},
   "outputs": [],
   "source": [
    "from sklearn.preprocessing import StandardScaler\n",
    "\n",
    "numeric_pipeline = Pipeline(\n",
    "    steps=[(\"impute\", SimpleImputer(strategy=\"mean\")), \n",
    "           (\"scale\", StandardScaler())]\n",
    ")"
   ]
  },
  {
   "cell_type": "code",
   "execution_count": null,
   "id": "5873967f-aecd-48ba-b710-87abc1fa31ba",
   "metadata": {},
   "outputs": [],
   "source": [
    "from sklearn.compose import ColumnTransformer\n",
    "\n",
    "full_processor = ColumnTransformer(\n",
    "    transformers=[\n",
    "        (\"numeric\", numeric_pipeline, num_cols),\n",
    "        (\"categorical\", categorical_pipeline, cat_cols),\n",
    "    ]\n",
    ")"
   ]
  },
  {
   "cell_type": "code",
   "execution_count": null,
   "id": "69cbe9cf-87a5-46ca-b244-3b34dcd81d48",
   "metadata": {},
   "outputs": [],
   "source": [
    "import xgboost as xgb\n",
    "\n",
    "xgb_cl = xgb.XGBClassifier()"
   ]
  },
  {
   "cell_type": "code",
   "execution_count": null,
   "id": "1cc7cb2d-782b-4772-8b71-aef2ccd73cdf",
   "metadata": {},
   "outputs": [],
   "source": [
    "X_processed = full_processor.fit_transform(X)\n",
    "y_processed = SimpleImputer(strategy=\"most_frequent\").fit_transform(\n",
    "    y.values.reshape(-1, 1)\n",
    ")\n",
    "\n",
    "from sklearn.model_selection import train_test_split\n",
    "\n",
    "X_train, X_test, y_train, y_test = train_test_split(\n",
    "    X_processed, y_processed, stratify=y_processed, random_state=1121218\n",
    ")"
   ]
  },
  {
   "cell_type": "code",
   "execution_count": null,
   "id": "3aa41c84-8efb-4ef1-bdc3-fc6ee8fa1c4b",
   "metadata": {},
   "outputs": [],
   "source": [
    "from sklearn.metrics import accuracy_score\n",
    "\n",
    "xgb_cl = xgb.XGBClassifier()\n",
    "\n",
    "xgb_cl.fit(X_train, y_train)\n",
    "\n",
    "preds = xgb_cl.predict(X_test)\n",
    "\n",
    "accuracy_score(y_test, preds)\n"
   ]
  },
  {
   "cell_type": "markdown",
   "id": "89aaccaf-998f-48dc-bd8f-e5ad52143ad1",
   "metadata": {},
   "source": [
    "## Grid Search"
   ]
  },
  {
   "cell_type": "markdown",
   "id": "063e6d06-2e73-4981-8b1f-e82be9db4017",
   "metadata": {},
   "source": [
    "https://xgboost.readthedocs.io/en/stable/parameter.html"
   ]
  },
  {
   "cell_type": "markdown",
   "id": "c504a5c8-61af-4611-bb9c-66d54784ec7f",
   "metadata": {},
   "source": [
    "- `eta` / `learning_rate` - redukcja kroku aby uniknąć przetrenowania - `[0,1]`\n",
    "- `gamma` - minimalny strata potrzebna do kolejnego kroku. Większy parametr - algorytm jest bardziej konserwatywny - `[0, Infty]`\n",
    "- `max_depth` - maksymalna głębokość drzewa\n",
    "- `subsample` - jaka część danych jest brana do trenowania przy kolejnych krokach\n",
    "- `sampling_method` - jaka strategia samplingu\n",
    "- `colsample_*` - rodzina parametrów regulująca subsampling\n",
    "- `lambda` / `reg_lambda` - waga cech. Większy parametr - algorytm jest bardziej konserwatywny - `[0, Infty]`\n",
    "- `scale_pos_weight` - ważenie niezbalansowanych klas"
   ]
  },
  {
   "cell_type": "markdown",
   "id": "798de174-0f7f-4e94-b897-af63d70133b0",
   "metadata": {},
   "source": [
    "https://xgboost.readthedocs.io/en/stable/tutorials/param_tuning.html"
   ]
  },
  {
   "cell_type": "markdown",
   "id": "968600c8-dd18-4609-bdaa-765f1691ad5f",
   "metadata": {},
   "source": [
    "#### Sterowanie złożonością modelu:\n",
    "    - Złożonośc modelu: `max_depth`, `gamma`, `min_child_weight`\n",
    "    - Wprowadzenie szumu: `subsample`, `colsample_by_tree`\n",
    "    - Tempo uczenia: `eta` , `num_round`"
   ]
  },
  {
   "cell_type": "code",
   "execution_count": null,
   "id": "5966de92-6832-494d-a80f-09e5d5801d2b",
   "metadata": {},
   "outputs": [],
   "source": [
    "param_grid = {\n",
    "    \"max_depth\": [3, 4, 5, 7],\n",
    "    \"learning_rate\": [0.1, 0.01, 0.05],\n",
    "    \"gamma\": [0, 0.25, 1],\n",
    "    \"reg_lambda\": [0, 1, 10],\n",
    "    \"scale_pos_weight\": [1, 3, 5],\n",
    "    \"subsample\": [0.8],\n",
    "    \"colsample_bytree\": [0.5],\n",
    "}"
   ]
  },
  {
   "cell_type": "code",
   "execution_count": null,
   "id": "d56515b4-01be-4072-aeee-8061301ded8a",
   "metadata": {},
   "outputs": [],
   "source": [
    "from sklearn.model_selection import GridSearchCV\n",
    "\n",
    "xgb_cl = xgb.XGBClassifier(objective=\"binary:logistic\")\n",
    "\n",
    "grid_cv = GridSearchCV(xgb_cl, param_grid, n_jobs=-1, cv=3, scoring=\"roc_auc\")\n",
    "\n",
    "_ = grid_cv.fit(X_processed, y_processed)"
   ]
  },
  {
   "cell_type": "code",
   "execution_count": null,
   "id": "3b6827ff-376d-4282-8328-039a1bb5fdea",
   "metadata": {},
   "outputs": [],
   "source": [
    " grid_cv.best_score_"
   ]
  },
  {
   "cell_type": "markdown",
   "id": "3e654646-bad3-4809-aac9-a4d8bdde6db2",
   "metadata": {},
   "source": [
    "----"
   ]
  },
  {
   "cell_type": "code",
   "execution_count": null,
   "id": "e110d57b-8e0b-44d2-a725-1d56eed3d20c",
   "metadata": {},
   "outputs": [],
   "source": [
    "grid_cv.best_params_"
   ]
  },
  {
   "cell_type": "markdown",
   "id": "e18ad935-1b2d-4bcd-868a-6a4c9787c76a",
   "metadata": {},
   "source": [
    "# <span style=\"color: magenta\">Ćwiczenie - dobrać jeszcze lepsze parametry (dla tych z końców zakresu) </span>\n",
    "\n",
    "# <span style=\"color: magenta\">Ćwiczenie - stworzyć klasyfikator w oparciu o ulepszone parametry. Podać jego skuteczność na zbiorze testowym.</span>\n"
   ]
  },
  {
   "cell_type": "markdown",
   "id": "358394bb-d2c2-4121-8388-d3dc11ea5419",
   "metadata": {},
   "source": [
    "---"
   ]
  },
  {
   "cell_type": "markdown",
   "id": "c400d641-f113-4aa3-8a15-40c928521f48",
   "metadata": {},
   "source": [
    "# Pipeline dla tekstu"
   ]
  },
  {
   "cell_type": "code",
   "execution_count": null,
   "id": "a77d5e00-d27d-4716-9eae-1001053eb665",
   "metadata": {},
   "outputs": [],
   "source": [
    "import pandas as pd\n",
    "from sklearn.feature_extraction.text import TfidfVectorizer \n",
    "\n",
    "data = pd.read_csv('data/adverts_29_04.csv', sep=';')\n",
    "data['cena_za_metr'] = data['Cena'] / data['Wielkość (m2)']\n",
    "data = data.dropna(subset=['cena_za_metr'])\n",
    "df = data.drop(['Cena', 'Data dodania'], axis=1)\n",
    "df\n",
    "\n",
    "tfidf = TfidfVectorizer()\n",
    "tfs = tfidf.fit_transform(df[\"opis\"])\n",
    "tfs"
   ]
  },
  {
   "cell_type": "code",
   "execution_count": null,
   "id": "b61d7ac4-bee1-4869-aafc-1d762afc5880",
   "metadata": {},
   "outputs": [],
   "source": [
    "from sklearn.base import BaseEstimator, TransformerMixin\n",
    "from sklearn.decomposition import TruncatedSVD\n",
    "from sklearn.feature_extraction.text import TfidfVectorizer\n",
    "from sklearn.pipeline import Pipeline\n",
    "from sklearn.linear_model import LinearRegression\n",
    "from sklearn.model_selection import train_test_split\n",
    "from sklearn.model_selection import cross_val_score\n",
    "\n",
    "class ItemSelector(BaseEstimator, TransformerMixin):\n",
    "    def __init__(self, key):\n",
    "        self.key = key\n",
    "\n",
    "    def fit(self, x, y=None):\n",
    "        return self\n",
    "\n",
    "    def transform(self, data_dict):\n",
    "        return data_dict[self.key]\n",
    "\n",
    "\n",
    "pipeline = Pipeline([\n",
    "                ('selector', ItemSelector(key='opis')),\n",
    "                ('tfidf', TfidfVectorizer()),\n",
    "                ('best', TruncatedSVD(n_components=250)),\n",
    "                ('linear', LinearRegression())\n",
    "            ])\n",
    "\n",
    "y = dum_df['cena_za_metr']\n",
    "X = dum_df.drop(['cena_za_metr'], axis=1)\n",
    "\n",
    "X_train, X_test, y_train, y_test = train_test_split(X, y, test_size=0.1, random_state=1)\n",
    "scores = cross_val_score(pipeline, X_train, y_train, cv=3)\n",
    "print(list(scores))\n",
    "print()\n",
    "print(\"Accuracy: %0.2f (+/- %0.2f)\" % (scores.mean(), scores.std() * 2))"
   ]
  },
  {
   "cell_type": "code",
   "execution_count": null,
   "id": "324e2d20-d5a5-4f93-9003-0195486f3ce0",
   "metadata": {},
   "outputs": [],
   "source": [
    "from sklearn.base import BaseEstimator, TransformerMixin\n",
    "from sklearn.decomposition import TruncatedSVD\n",
    "from sklearn.feature_extraction.text import TfidfVectorizer\n",
    "from sklearn.pipeline import Pipeline\n",
    "from sklearn.linear_model import LinearRegression\n",
    "from sklearn.svm import SVR\n",
    "from sklearn.model_selection import train_test_split\n",
    "from sklearn.model_selection import cross_val_score\n",
    "from sklearn.model_selection import GridSearchCV\n",
    "from time import time\n",
    "from warnings import simplefilter\n",
    "simplefilter(action='ignore', category=FutureWarning)\n",
    "\n",
    "class ItemSelector(BaseEstimator, TransformerMixin):\n",
    "    def __init__(self, key):\n",
    "        self.key = key\n",
    "\n",
    "    def fit(self, x, y=None):\n",
    "        return self\n",
    "\n",
    "    def transform(self, data_dict):\n",
    "        return data_dict[self.key]\n",
    "\n",
    "parameters = parameters = {\n",
    "    'best__n_components': (250,),\n",
    "    'svr__C': (100, 1000),\n",
    "    'svr__kernel':('linear', 'rbf')\n",
    "}\n",
    "\n",
    "pipeline = Pipeline([\n",
    "                ('selector', ItemSelector(key='opis')),\n",
    "                ('tfidf', TfidfVectorizer()),\n",
    "                ('best', TruncatedSVD()),\n",
    "                ('svr', SVR())\n",
    "            ])\n",
    "\n",
    "grid_search = GridSearchCV(pipeline, parameters, verbose=1, cv=3, n_jobs=2)\n",
    "\n",
    "\n",
    "y = dum_df['cena_za_metr']\n",
    "X = dum_df.drop(['cena_za_metr'], axis=1)\n",
    "\n",
    "X_train, X_test, y_train, y_test = train_test_split(X, y, test_size=0.1, random_state=17)\n",
    "\n",
    "t0 = time()\n",
    "grid_search.fit(X_train, y_train)\n",
    "print(\"done in %0.3fs\" % (time() - t0))\n",
    "print(\"Best parameters set:\")\n",
    "best_parameters = grid_search.best_estimator_.get_params()\n",
    "for param_name in sorted(parameters.keys()):\n",
    "    print(\"\\t%s: %r\" % (param_name, best_parameters[param_name]))"
   ]
  },
  {
   "cell_type": "code",
   "execution_count": null,
   "id": "d09cea40-c3d6-4082-b0a1-1c8d7aebeda4",
   "metadata": {},
   "outputs": [],
   "source": [
    "from sklearn.feature_extraction.text import TfidfTransformer\n",
    "from sklearn.feature_extraction.text import CountVectorizer\n",
    "from operator import itemgetter\n",
    "\n",
    "vectorizer = TfidfVectorizer(min_df=2)\n",
    "\n",
    "X = vectorizer.fit_transform(X_train['opis'])\n",
    "\n"
   ]
  },
  {
   "cell_type": "code",
   "execution_count": null,
   "id": "728df643-f595-49f1-bef6-2bb56191abf7",
   "metadata": {},
   "outputs": [],
   "source": [
    "import gzip\n",
    "import sys\n",
    "import re\n",
    "import re\n",
    "\n",
    "splitter = re.compile(r'[^ąąćęńłóóśśżżź\\w]+')\n",
    "isnumber = re.compile(r'[0-9]')\n",
    "\n",
    "f = gzip.open('data/odm.txt.gz', 'rt', encoding='utf-8')\n",
    "dictionary = {}\n",
    "set_dict= set()\n",
    "\n",
    "for x in f:\n",
    "    t = x.strip().split(',')\n",
    "    tt = [ x.strip().lower() for x in t]\n",
    "    for w in tt:\n",
    "        set_dict.add(w)\n",
    "        dictionary[w]=tt[0]\n",
    "\n",
    "def lematize(w):\n",
    "    w = w.replace('ą','ą')\n",
    "    w = w.replace('ó','ó')\n",
    "    w = w.replace('ę','ę')\n",
    "    w = w.replace('ż','ż')\n",
    "    return dictionary.get(w,w)\n",
    "\n",
    "opis1 = dum_df['opis'][0]\n",
    "\n",
    "\n",
    "\n",
    "raw_corpus=[]\n",
    "n=0\n",
    "\n",
    "for i in dum_df.iterrows():\n",
    "    n+=1\n",
    "    l = list(splitter.split(i[1][1]))\n",
    "    raw_corpus.append(l)\n",
    "\n",
    "    \n",
    "all_words = []\n",
    "for t in raw_corpus:\n",
    "    all_words[0:0] = t\n",
    "\n",
    "words = {}\n",
    "for w in all_words:\n",
    "    rec = words.get(w.lower(), {'upper':0, 'lower': 0})\n",
    "    if w.lower()==w or w.upper()==w:\n",
    "        rec['lower'] = rec['lower'] +1\n",
    "    else: \n",
    "        rec['upper'] = rec['upper'] +1\n",
    "    words[w.lower()] = rec\n",
    "\n",
    "raw_stop_words = [ x for x in words.keys() if words[x]['upper']>=words[x]['lower']*4 ]   \n",
    "\n",
    "set_raw_stop_words = set(raw_stop_words)\n",
    "\n"
   ]
  },
  {
   "cell_type": "code",
   "execution_count": null,
   "id": "a39bee3c-3fca-412f-bba4-6a9848136a0a",
   "metadata": {},
   "outputs": [],
   "source": [
    "raw_stop_words[:20]"
   ]
  },
  {
   "cell_type": "code",
   "execution_count": null,
   "id": "6b637e49-82a4-45ea-a15d-0b3cf9cbd514",
   "metadata": {},
   "outputs": [],
   "source": [
    "def preprocessing(opis, filter_raw=True, filter_dict=True):\n",
    "    opis = str(opis)\n",
    "    tokenized = splitter.split(opis)\n",
    "    l = list(tokenized)\n",
    "    l = [ x.lower() for x in l ]\n",
    "    l = [ x for x in l if len(x) > 2]\n",
    "    l = [ x for x in l if x.find('_') < 0]\n",
    "    l = [ x for x in l if isnumber.search(x) is None ]\n",
    "    if filter_raw: l = [ x for x in l if x not in set_raw_stop_words ]\n",
    "    if filter_dict: l = [ x for x in l if x in set_dict ]\n",
    "    l = [ lematize(x) for x in l ]\n",
    "    l = [ x for x in l if len(x) > 2]\n",
    "    return l"
   ]
  },
  {
   "cell_type": "code",
   "execution_count": null,
   "id": "48710a9b-ef03-4394-813c-a16c3e641c7d",
   "metadata": {},
   "outputs": [],
   "source": [
    "opis1"
   ]
  },
  {
   "cell_type": "code",
   "execution_count": null,
   "id": "c17acb47-cd43-4b5a-bb9b-d7de8d5d553f",
   "metadata": {},
   "outputs": [],
   "source": [
    "print(preprocessing(opis1))"
   ]
  },
  {
   "cell_type": "code",
   "execution_count": null,
   "id": "cdde618e-1106-4287-90f1-e86ea113ebb7",
   "metadata": {},
   "outputs": [],
   "source": [
    "print(preprocessing(opis1, filter_raw=False))"
   ]
  },
  {
   "cell_type": "code",
   "execution_count": null,
   "id": "98afe037-e4e3-48af-9aff-d7203fb05afe",
   "metadata": {},
   "outputs": [],
   "source": [
    "print(preprocessing(opis1, filter_dict=False))"
   ]
  },
  {
   "cell_type": "code",
   "execution_count": null,
   "id": "78380fd2-e1b1-4ed6-a95e-de2a705bca9c",
   "metadata": {},
   "outputs": [],
   "source": [
    "print(preprocessing(opis1, filter_raw=False, filter_dict=False))"
   ]
  },
  {
   "cell_type": "code",
   "execution_count": null,
   "id": "b50e562b-0f56-42d0-bcde-64ccfeacccc6",
   "metadata": {},
   "outputs": [],
   "source": [
    "dum_df[\"opisTT\"] = dum_df[\"opis\"].apply(lambda x: ' '.join(preprocessing(x,filter_raw=True, filter_dict=True)))\n",
    "dum_df[\"opisTF\"] = dum_df[\"opis\"].apply(lambda x: ' '.join(preprocessing(x,filter_raw=True, filter_dict=False)))\n",
    "dum_df[\"opisFT\"] = dum_df[\"opis\"].apply(lambda x: ' '.join(preprocessing(x,filter_raw=False, filter_dict=True)))\n",
    "dum_df[\"opisFF\"] = dum_df[\"opis\"].apply(lambda x: ' '.join(preprocessing(x,filter_raw=False, filter_dict=False)))"
   ]
  },
  {
   "cell_type": "markdown",
   "id": "6eafdf35-4c67-4291-aca6-182b9159428c",
   "metadata": {},
   "source": [
    "---\n",
    "# Pipeline kompozytowy"
   ]
  },
  {
   "cell_type": "code",
   "execution_count": null,
   "id": "e731598e-6f1c-41f9-9ca7-d26fc42bed44",
   "metadata": {},
   "outputs": [],
   "source": [
    "from sklearn.ensemble import GradientBoostingRegressor\n",
    "from sklearn.svm import SVR\n",
    "from sklearn.base import BaseEstimator, TransformerMixin\n",
    "from sklearn.decomposition import TruncatedSVD\n",
    "from sklearn.feature_extraction.text import TfidfVectorizer\n",
    "from sklearn.pipeline import Pipeline\n",
    "from sklearn.linear_model import LinearRegression\n",
    "from sklearn.model_selection import train_test_split\n",
    "from sklearn.model_selection import cross_val_score\n",
    "from sklearn.model_selection import GridSearchCV\n",
    "from time import time\n",
    "from sklearn.preprocessing import StandardScaler, Normalizer, RobustScaler\n",
    "from sklearn.compose import TransformedTargetRegressor\n",
    "from sklearn.pipeline import FeatureUnion\n",
    "\n",
    "class ItemSelector(BaseEstimator, TransformerMixin):\n",
    "    def __init__(self, key=''):\n",
    "        self.key = key\n",
    "\n",
    "    def fit(self, x, y=None):\n",
    "        return self\n",
    "\n",
    "    def transform(self, data_dict):\n",
    "        return data_dict[self.key]\n",
    "\n",
    "class ItemUnSelector(BaseEstimator, TransformerMixin):\n",
    "    def __init__(self, keys=[]):\n",
    "        self.keys = keys\n",
    "\n",
    "    def fit(self, x, y=None):\n",
    "        return self\n",
    "\n",
    "    def transform(self, data_dict):\n",
    "        return data_dict.drop(self.keys, axis=1)\n",
    "\n",
    "\n",
    "pipeline = Pipeline([\n",
    "   ('union', \n",
    "        FeatureUnion(\n",
    "            transformer_list=[\n",
    "                ('table', \n",
    "                    Pipeline([\n",
    "                        ('selector1', ItemUnSelector(keys=['opis', 'opisTT', 'opisTF', 'opisFT', 'opisFF'])),\n",
    "                        ('scaler1', 'passthrough')\n",
    "                    ])\n",
    "                ),\n",
    "                ('description', \n",
    "                    Pipeline([\n",
    "                        ('selector2', ItemSelector()),\n",
    "                        ('tfidf', TfidfVectorizer()),\n",
    "                        ('best', TruncatedSVD()),\n",
    "                        ('scaler2', 'passthrough')\n",
    "                    ])\n",
    "                )\n",
    "            ]\n",
    "        )    \n",
    "\n",
    "   ),\n",
    "   ('regressor', \n",
    "        TransformedTargetRegressor()\n",
    "    )\n",
    "])\n",
    "\n",
    "parameters = parameters = {\n",
    "    'union__transformer_weights': [  { 'table': 1.0, 'description': 1.0}],\n",
    "\n",
    "    'union__description__best__n_components': (700,),\n",
    "    'union__description__tfidf__min_df': (3,),\n",
    "    'union__description__tfidf__binary': (True,),\n",
    "    'union__description__selector2__key': [ 'opisFF'] ,\n",
    "    \n",
    "    'union__table__scaler1': [ RobustScaler()],\n",
    "    'union__description__scaler2': [ RobustScaler(with_centering=False)],\n",
    "    \n",
    "    'regressor': [ GradientBoostingRegressor()] ,\n",
    "}\n",
    "\n",
    "grid_search = GridSearchCV(pipeline, parameters, verbose=1, cv=10, n_jobs=4)\n",
    "\n",
    "\n",
    "y = dum_df['cena_za_metr']\n",
    "X = dum_df.drop(['cena_za_metr'], axis=1)\n",
    "\n",
    "t0 = time()\n",
    "grid_search.fit(X, y)\n",
    "print(\"done in %0.3fs\" % (time() - t0))\n",
    "\n",
    "print(f'Best score: {grid_search.best_score_}')\n",
    "\n",
    "print(\"Best parameters set:\")\n",
    "print()\n",
    "best_parameters = grid_search.best_estimator_.get_params()\n",
    "for param_name in sorted(parameters.keys()):\n",
    "    print(\"\\t%s: %r\" % (param_name, best_parameters[param_name]))"
   ]
  },
  {
   "cell_type": "markdown",
   "id": "87b91f2f-1e7e-4b30-aeb0-5d822483dba4",
   "metadata": {},
   "source": [
    "---\n",
    "## Problemy z trenowaniem modelu\n",
    "\n",
    "\n",
    "### To ile tych prób możemy mieć ?\n",
    "\n",
    "- 3 zestawy wag `union`\n",
    "- 6 zestawów wymiarów SVD\n",
    "- 6 zestawów parametrów TF-IDF\n",
    "- 4 zbiory danych tekstowych\n",
    "- 4 mechanizmy skalowania części `table`\n",
    "- 4 mechanizmy skalowania części `description`\n",
    "- 3 regresory\n",
    "- 10 walidacji krzyżowych"
   ]
  },
  {
   "cell_type": "code",
   "execution_count": null,
   "id": "3d7228e4-157f-4961-a862-438f20abd873",
   "metadata": {},
   "outputs": [],
   "source": [
    "3*6*6*4*4*4*3*10"
   ]
  },
  {
   "cell_type": "markdown",
   "id": "f4a303f8-efec-4d5e-b4c7-8c6c17883d22",
   "metadata": {},
   "source": [
    "powiedzmy - że 3 na minutę"
   ]
  },
  {
   "cell_type": "code",
   "execution_count": null,
   "id": "b3312205-ec9f-45bb-82ed-678376e210d1",
   "metadata": {},
   "outputs": [],
   "source": [
    "3*6*6*4*4*4*3*10/3/60/24"
   ]
  },
  {
   "cell_type": "markdown",
   "id": "811f7404-8ff0-4318-a36e-29a98b29d0fb",
   "metadata": {},
   "source": [
    "---\n",
    "\n",
    "# Podsumowanie\n",
    "\n",
    "- ## Inżynieria cech i przygotowanie danych to zestaw arbitralnych decyzji\n",
    "- ## Te decyzje muszą być walidowane\n",
    "- ## __*Inżynieria cech*__ jest częścią modelu\n",
    "- ## Uwaga na <span style=\"color: red\">Eksplozję kombinatoryczną</span>\n",
    "\n",
    "# Bibliografia\n",
    "- ## [Efficient and Robust Automated Machine Learning](https://papers.nips.cc/paper/5872-efficient-and-robust-automated-machine-learning.pdf) - __*Matthias Feurer, Aaron Klein, Katharina Eggensperger, Jost Springenberg, Manuel Blum and Frank Hutter*__ Advances in Neural Information Processing Systems 28 (2015)"
   ]
  }
 ],
 "metadata": {
  "kernelspec": {
   "display_name": "Python 3",
   "language": "python",
   "name": "python3"
  },
  "language_info": {
   "codemirror_mode": {
    "name": "ipython",
    "version": 3
   },
   "file_extension": ".py",
   "mimetype": "text/x-python",
   "name": "python",
   "nbconvert_exporter": "python",
   "pygments_lexer": "ipython3",
   "version": "3.9.1"
  }
 },
 "nbformat": 4,
 "nbformat_minor": 5
}
